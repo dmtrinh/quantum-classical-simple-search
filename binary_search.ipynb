{
 "cells": [
  {
   "cell_type": "code",
   "execution_count": 1,
   "metadata": {},
   "outputs": [
    {
     "name": "stdout",
     "output_type": "stream",
     "text": [
      "Binary search demo for guessing game.\n"
     ]
    }
   ],
   "source": [
    "import random\n",
    "\n",
    "MIN_NUM = 0\n",
    "MAX_NUM = 4095\n",
    "\n",
    "print(\"Binary search demo for guessing game.\")"
   ]
  },
  {
   "cell_type": "code",
   "execution_count": 2,
   "metadata": {},
   "outputs": [
    {
     "name": "stdout",
     "output_type": "stream",
     "text": [
      "Picking a secret number between 0 and 4095...  \n"
     ]
    }
   ],
   "source": [
    "print(\"Picking a secret number between %d and %d...  \" %(MIN_NUM, MAX_NUM))\n",
    "# Generate a random integer\n",
    "secret = random.randint(MIN_NUM, MAX_NUM)"
   ]
  },
  {
   "cell_type": "code",
   "execution_count": 3,
   "metadata": {},
   "outputs": [
    {
     "name": "stdout",
     "output_type": "stream",
     "text": [
      "Guessing 2047...  Too small, go higher!\n",
      "Guessing 3071...  Too big, go lower!\n",
      "Guessing 2559...  Too small, go higher!\n",
      "Guessing 2815...  Too small, go higher!\n",
      "Guessing 2943...  Too big, go lower!\n",
      "Guessing 2879...  Too big, go lower!\n",
      "Guessing 2847...  Too big, go lower!\n",
      "Guessing 2831...  Too big, go lower!\n",
      "Guessing 2823...  Too small, go higher!\n",
      "Guessing 2827...  Too big, go lower!\n",
      "Guessing 2825...  You got it!  My secret number was 2825.\n",
      "That took 11 tries.\n"
     ]
    }
   ],
   "source": [
    "lower = MIN_NUM\n",
    "upper = MAX_NUM\n",
    "\n",
    "guess = -1\n",
    "tries = 0\n",
    "\n",
    "# Binary search\n",
    "while (guess != secret):\n",
    "  guess = (lower + upper) // 2\n",
    "  tries += 1\n",
    "\n",
    "  print(\"Guessing %d...  \" %(guess), end='')\n",
    "  if (guess > secret):\n",
    "    print(\"Too big, go lower!\")\n",
    "    upper = guess - 1\n",
    "  elif (guess < secret):\n",
    "    print(\"Too small, go higher!\")\n",
    "    lower = guess + 1\n",
    "  else:\n",
    "    print(\"You got it!  My secret number was %d.\" %(guess))\n",
    "    break\n",
    "\n",
    "print(\"That took %d tries.\" %(tries))"
   ]
  }
 ],
 "metadata": {
  "interpreter": {
   "hash": "a1c9220863c96ae11fbb91220d2ac04e2feb17114c43aea1b859bff26e56abb7"
  },
  "kernelspec": {
   "display_name": "Python 3.9.8 64-bit ('quantum': virtualenv)",
   "language": "python",
   "name": "python3"
  },
  "language_info": {
   "codemirror_mode": {
    "name": "ipython",
    "version": 3
   },
   "file_extension": ".py",
   "mimetype": "text/x-python",
   "name": "python",
   "nbconvert_exporter": "python",
   "pygments_lexer": "ipython3",
   "version": "3.9.8"
  },
  "orig_nbformat": 4
 },
 "nbformat": 4,
 "nbformat_minor": 2
}
