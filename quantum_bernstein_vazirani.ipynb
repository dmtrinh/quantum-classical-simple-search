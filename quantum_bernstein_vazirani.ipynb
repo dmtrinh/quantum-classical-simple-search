{
 "cells": [
  {
   "cell_type": "code",
   "execution_count": 1,
   "metadata": {},
   "outputs": [
    {
     "name": "stdout",
     "output_type": "stream",
     "text": [
      "Quantum implementation of Bernstein–Vazirani algorithm for guessing game.\n"
     ]
    }
   ],
   "source": [
    "import matplotlib.pyplot as plt\n",
    "import numpy as np\n",
    "import random\n",
    "\n",
    "# importing Qiskit\n",
    "from qiskit import IBMQ, Aer\n",
    "from qiskit.providers.ibmq import least_busy\n",
    "from qiskit import QuantumCircuit, ClassicalRegister, QuantumRegister, transpile, assemble\n",
    "\n",
    "# import basic plot tools\n",
    "from qiskit.visualization import plot_histogram\n",
    "\n",
    "MIN_NUM = 0\n",
    "MAX_NUM = 4095\n",
    "\n",
    "print(\"Quantum implementation of Bernstein–Vazirani algorithm for guessing game.\")"
   ]
  },
  {
   "cell_type": "code",
   "execution_count": 2,
   "metadata": {},
   "outputs": [
    {
     "name": "stdout",
     "output_type": "stream",
     "text": [
      "Randomly picking a secret number between 0 and 4095...  \n",
      "(Secret number chosen is 186)\n"
     ]
    }
   ],
   "source": [
    "print(\"Randomly picking a secret number between %d and %d...  \" %(MIN_NUM, MAX_NUM))\n",
    "# Generate a random integer\n",
    "secret = random.randint(MIN_NUM, MAX_NUM)\n",
    "\n",
    "print(\"(Secret number chosen is %d)\" %(secret))"
   ]
  },
  {
   "cell_type": "code",
   "execution_count": 3,
   "metadata": {},
   "outputs": [
    {
     "name": "stdout",
     "output_type": "stream",
     "text": [
      "Size of search space is 12 bits.\n"
     ]
    }
   ],
   "source": [
    "secret_as_binary = format(secret, \"b\")\n",
    "search_space_size = MAX_NUM.bit_length()\n",
    "print(\"Size of search space is %d bits.\" %(search_space_size))"
   ]
  },
  {
   "cell_type": "code",
   "execution_count": 4,
   "metadata": {},
   "outputs": [],
   "source": [
    "# Pad secret with leading 0 as needed to ensure it has the same number of bit indices as the search space \n",
    "delta = search_space_size - len(secret_as_binary)\n",
    "secret_as_binary = (\"0\" * delta) + secret_as_binary"
   ]
  },
  {
   "cell_type": "code",
   "execution_count": 5,
   "metadata": {},
   "outputs": [
    {
     "data": {
      "text/html": [
       "<pre style=\"word-wrap: normal;white-space: pre;background: #fff0;line-height: 1.1;font-family: &quot;Courier New&quot;,Courier,monospace\">      ┌───┐      ░ ┌───┐                          ░ ┌───┐┌─┐                  »\n",
       " q_0: ┤ H ├──────░─┤ I ├──────────────────────────░─┤ H ├┤M├──────────────────»\n",
       "      ├───┤      ░ └───┘                          ░ ├───┤└╥┘┌─┐               »\n",
       " q_1: ┤ H ├──────░───■────────────────────────────░─┤ H ├─╫─┤M├───────────────»\n",
       "      ├───┤      ░   │  ┌───┐                     ░ ├───┤ ║ └╥┘┌─┐            »\n",
       " q_2: ┤ H ├──────░───┼──┤ I ├─────────────────────░─┤ H ├─╫──╫─┤M├────────────»\n",
       "      ├───┤      ░   │  └───┘                     ░ ├───┤ ║  ║ └╥┘┌─┐         »\n",
       " q_3: ┤ H ├──────░───┼─────────■──────────────────░─┤ H ├─╫──╫──╫─┤M├─────────»\n",
       "      ├───┤      ░   │         │                  ░ ├───┤ ║  ║  ║ └╥┘┌─┐      »\n",
       " q_4: ┤ H ├──────░───┼─────────┼────■─────────────░─┤ H ├─╫──╫──╫──╫─┤M├──────»\n",
       "      ├───┤      ░   │         │    │             ░ ├───┤ ║  ║  ║  ║ └╥┘┌─┐   »\n",
       " q_5: ┤ H ├──────░───┼─────────┼────┼────■────────░─┤ H ├─╫──╫──╫──╫──╫─┤M├───»\n",
       "      ├───┤      ░   │  ┌───┐  │    │    │        ░ ├───┤ ║  ║  ║  ║  ║ └╥┘┌─┐»\n",
       " q_6: ┤ H ├──────░───┼──┤ I ├──┼────┼────┼────────░─┤ H ├─╫──╫──╫──╫──╫──╫─┤M├»\n",
       "      ├───┤      ░   │  └───┘  │    │    │        ░ ├───┤ ║  ║  ║  ║  ║  ║ └╥┘»\n",
       " q_7: ┤ H ├──────░───┼─────────┼────┼────┼────■───░─┤ H ├─╫──╫──╫──╫──╫──╫──╫─»\n",
       "      ├───┤      ░   │  ┌───┐  │    │    │    │   ░ ├───┤ ║  ║  ║  ║  ║  ║  ║ »\n",
       " q_8: ┤ H ├──────░───┼──┤ I ├──┼────┼────┼────┼───░─┤ H ├─╫──╫──╫──╫──╫──╫──╫─»\n",
       "      ├───┤      ░   │  ├───┤  │    │    │    │   ░ ├───┤ ║  ║  ║  ║  ║  ║  ║ »\n",
       " q_9: ┤ H ├──────░───┼──┤ I ├──┼────┼────┼────┼───░─┤ H ├─╫──╫──╫──╫──╫──╫──╫─»\n",
       "      ├───┤      ░   │  ├───┤  │    │    │    │   ░ ├───┤ ║  ║  ║  ║  ║  ║  ║ »\n",
       "q_10: ┤ H ├──────░───┼──┤ I ├──┼────┼────┼────┼───░─┤ H ├─╫──╫──╫──╫──╫──╫──╫─»\n",
       "      ├───┤      ░   │  ├───┤  │    │    │    │   ░ ├───┤ ║  ║  ║  ║  ║  ║  ║ »\n",
       "q_11: ┤ H ├──────░───┼──┤ I ├──┼────┼────┼────┼───░─┤ H ├─╫──╫──╫──╫──╫──╫──╫─»\n",
       "      ├───┤┌───┐ ░ ┌─┴─┐└───┘┌─┴─┐┌─┴─┐┌─┴─┐┌─┴─┐ ░ └───┘ ║  ║  ║  ║  ║  ║  ║ »\n",
       "q_12: ┤ H ├┤ Z ├─░─┤ X ├─────┤ X ├┤ X ├┤ X ├┤ X ├─░───────╫──╫──╫──╫──╫──╫──╫─»\n",
       "      └───┘└───┘ ░ └───┘     └───┘└───┘└───┘└───┘ ░       ║  ║  ║  ║  ║  ║  ║ »\n",
       "c: 12/════════════════════════════════════════════════════╩══╩══╩══╩══╩══╩══╩═»\n",
       "                                                          0  1  2  3  4  5  6 »\n",
       "«                     \n",
       "« q_0: ───────────────\n",
       "«                     \n",
       "« q_1: ───────────────\n",
       "«                     \n",
       "« q_2: ───────────────\n",
       "«                     \n",
       "« q_3: ───────────────\n",
       "«                     \n",
       "« q_4: ───────────────\n",
       "«                     \n",
       "« q_5: ───────────────\n",
       "«                     \n",
       "« q_6: ───────────────\n",
       "«      ┌─┐            \n",
       "« q_7: ┤M├────────────\n",
       "«      └╥┘┌─┐         \n",
       "« q_8: ─╫─┤M├─────────\n",
       "«       ║ └╥┘┌─┐      \n",
       "« q_9: ─╫──╫─┤M├──────\n",
       "«       ║  ║ └╥┘┌─┐   \n",
       "«q_10: ─╫──╫──╫─┤M├───\n",
       "«       ║  ║  ║ └╥┘┌─┐\n",
       "«q_11: ─╫──╫──╫──╫─┤M├\n",
       "«       ║  ║  ║  ║ └╥┘\n",
       "«q_12: ─╫──╫──╫──╫──╫─\n",
       "«       ║  ║  ║  ║  ║ \n",
       "«c: 12/═╩══╩══╩══╩══╩═\n",
       "«       7  8  9  10 11</pre>"
      ],
      "text/plain": [
       "      ┌───┐      ░ ┌───┐                          ░ ┌───┐┌─┐                  »\n",
       " q_0: ┤ H ├──────░─┤ I ├──────────────────────────░─┤ H ├┤M├──────────────────»\n",
       "      ├───┤      ░ └───┘                          ░ ├───┤└╥┘┌─┐               »\n",
       " q_1: ┤ H ├──────░───■────────────────────────────░─┤ H ├─╫─┤M├───────────────»\n",
       "      ├───┤      ░   │  ┌───┐                     ░ ├───┤ ║ └╥┘┌─┐            »\n",
       " q_2: ┤ H ├──────░───┼──┤ I ├─────────────────────░─┤ H ├─╫──╫─┤M├────────────»\n",
       "      ├───┤      ░   │  └───┘                     ░ ├───┤ ║  ║ └╥┘┌─┐         »\n",
       " q_3: ┤ H ├──────░───┼─────────■──────────────────░─┤ H ├─╫──╫──╫─┤M├─────────»\n",
       "      ├───┤      ░   │         │                  ░ ├───┤ ║  ║  ║ └╥┘┌─┐      »\n",
       " q_4: ┤ H ├──────░───┼─────────┼────■─────────────░─┤ H ├─╫──╫──╫──╫─┤M├──────»\n",
       "      ├───┤      ░   │         │    │             ░ ├───┤ ║  ║  ║  ║ └╥┘┌─┐   »\n",
       " q_5: ┤ H ├──────░───┼─────────┼────┼────■────────░─┤ H ├─╫──╫──╫──╫──╫─┤M├───»\n",
       "      ├───┤      ░   │  ┌───┐  │    │    │        ░ ├───┤ ║  ║  ║  ║  ║ └╥┘┌─┐»\n",
       " q_6: ┤ H ├──────░───┼──┤ I ├──┼────┼────┼────────░─┤ H ├─╫──╫──╫──╫──╫──╫─┤M├»\n",
       "      ├───┤      ░   │  └───┘  │    │    │        ░ ├───┤ ║  ║  ║  ║  ║  ║ └╥┘»\n",
       " q_7: ┤ H ├──────░───┼─────────┼────┼────┼────■───░─┤ H ├─╫──╫──╫──╫──╫──╫──╫─»\n",
       "      ├───┤      ░   │  ┌───┐  │    │    │    │   ░ ├───┤ ║  ║  ║  ║  ║  ║  ║ »\n",
       " q_8: ┤ H ├──────░───┼──┤ I ├──┼────┼────┼────┼───░─┤ H ├─╫──╫──╫──╫──╫──╫──╫─»\n",
       "      ├───┤      ░   │  ├───┤  │    │    │    │   ░ ├───┤ ║  ║  ║  ║  ║  ║  ║ »\n",
       " q_9: ┤ H ├──────░───┼──┤ I ├──┼────┼────┼────┼───░─┤ H ├─╫──╫──╫──╫──╫──╫──╫─»\n",
       "      ├───┤      ░   │  ├───┤  │    │    │    │   ░ ├───┤ ║  ║  ║  ║  ║  ║  ║ »\n",
       "q_10: ┤ H ├──────░───┼──┤ I ├──┼────┼────┼────┼───░─┤ H ├─╫──╫──╫──╫──╫──╫──╫─»\n",
       "      ├───┤      ░   │  ├───┤  │    │    │    │   ░ ├───┤ ║  ║  ║  ║  ║  ║  ║ »\n",
       "q_11: ┤ H ├──────░───┼──┤ I ├──┼────┼────┼────┼───░─┤ H ├─╫──╫──╫──╫──╫──╫──╫─»\n",
       "      ├───┤┌───┐ ░ ┌─┴─┐└───┘┌─┴─┐┌─┴─┐┌─┴─┐┌─┴─┐ ░ └───┘ ║  ║  ║  ║  ║  ║  ║ »\n",
       "q_12: ┤ H ├┤ Z ├─░─┤ X ├─────┤ X ├┤ X ├┤ X ├┤ X ├─░───────╫──╫──╫──╫──╫──╫──╫─»\n",
       "      └───┘└───┘ ░ └───┘     └───┘└───┘└───┘└───┘ ░       ║  ║  ║  ║  ║  ║  ║ »\n",
       "c: 12/════════════════════════════════════════════════════╩══╩══╩══╩══╩══╩══╩═»\n",
       "                                                          0  1  2  3  4  5  6 »\n",
       "«                     \n",
       "« q_0: ───────────────\n",
       "«                     \n",
       "« q_1: ───────────────\n",
       "«                     \n",
       "« q_2: ───────────────\n",
       "«                     \n",
       "« q_3: ───────────────\n",
       "«                     \n",
       "« q_4: ───────────────\n",
       "«                     \n",
       "« q_5: ───────────────\n",
       "«                     \n",
       "« q_6: ───────────────\n",
       "«      ┌─┐            \n",
       "« q_7: ┤M├────────────\n",
       "«      └╥┘┌─┐         \n",
       "« q_8: ─╫─┤M├─────────\n",
       "«       ║ └╥┘┌─┐      \n",
       "« q_9: ─╫──╫─┤M├──────\n",
       "«       ║  ║ └╥┘┌─┐   \n",
       "«q_10: ─╫──╫──╫─┤M├───\n",
       "«       ║  ║  ║ └╥┘┌─┐\n",
       "«q_11: ─╫──╫──╫──╫─┤M├\n",
       "«       ║  ║  ║  ║ └╥┘\n",
       "«q_12: ─╫──╫──╫──╫──╫─\n",
       "«       ║  ║  ║  ║  ║ \n",
       "«c: 12/═╩══╩══╩══╩══╩═\n",
       "«       7  8  9  10 11"
      ]
     },
     "execution_count": 5,
     "metadata": {},
     "output_type": "execute_result"
    }
   ],
   "source": [
    "# https://qiskit.org/textbook/ch-algorithms/bernstein-vazirani.html\n",
    "\n",
    "# We need a circuit with n qubits, plus one auxiliary qubit\n",
    "# Also need n classical bits to write the output to\n",
    "bv_circuit = QuantumCircuit(search_space_size+1, search_space_size)\n",
    "\n",
    "# put auxiliary in state |->\n",
    "bv_circuit.h(search_space_size)\n",
    "bv_circuit.z(search_space_size)\n",
    "\n",
    "# Apply Hadamard gates before querying the oracle\n",
    "for i in range(search_space_size):\n",
    "    bv_circuit.h(i)\n",
    "    \n",
    "# Apply barrier \n",
    "bv_circuit.barrier()\n",
    "\n",
    "# reverse secret to fit qiskit's least significant bit (LSB) first ordering\n",
    "lsb_first_secret = secret_as_binary[::-1]\n",
    "\n",
    "# Apply the inner-product oracle\n",
    "for q in range(search_space_size):\n",
    "    if lsb_first_secret[q] == '0':\n",
    "        bv_circuit.i(q)\n",
    "    else:\n",
    "        bv_circuit.cx(q, search_space_size)\n",
    "        \n",
    "# Apply barrier \n",
    "bv_circuit.barrier()\n",
    "\n",
    "# Apply Hadamard gates after querying the oracle\n",
    "for i in range(search_space_size):\n",
    "    bv_circuit.h(i)\n",
    "\n",
    "# Measurement\n",
    "for i in range(search_space_size):\n",
    "    bv_circuit.measure(i, i)\n",
    "\n",
    "bv_circuit.draw()"
   ]
  },
  {
   "cell_type": "code",
   "execution_count": 6,
   "metadata": {},
   "outputs": [
    {
     "name": "stdout",
     "output_type": "stream",
     "text": [
      "{'000010111010': 1024}\n"
     ]
    },
    {
     "data": {
      "image/png": "[encoded data removed]",
      "text/plain": [
       "<Figure size 504x360 with 1 Axes>"
      ]
     },
     "execution_count": 6,
     "metadata": {},
     "output_type": "execute_result"
    }
   ],
   "source": [
    "# use local simulator\n",
    "aer_sim = Aer.get_backend('aer_simulator')\n",
    "qobj = assemble(bv_circuit)\n",
    "results = aer_sim.run(qobj).result()\n",
    "answer = results.get_counts()\n",
    "\n",
    "print(answer)\n",
    "plot_histogram(answer)"
   ]
  }
 ],
 "metadata": {
  "interpreter": {
   "hash": "a1c9220863c96ae11fbb91220d2ac04e2feb17114c43aea1b859bff26e56abb7"
  },
  "kernelspec": {
   "display_name": "Python 3.9.8 64-bit ('quantum': virtualenv)",
   "language": "python",
   "name": "python3"
  },
  "language_info": {
   "codemirror_mode": {
    "name": "ipython",
    "version": 3
   },
   "file_extension": ".py",
   "mimetype": "text/x-python",
   "name": "python",
   "nbconvert_exporter": "python",
   "pygments_lexer": "ipython3",
   "version": "3.9.8"
  },
  "orig_nbformat": 4
 },
 "nbformat": 4,
 "nbformat_minor": 2
}
