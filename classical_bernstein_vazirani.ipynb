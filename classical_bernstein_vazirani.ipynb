{
 "cells": [
  {
   "cell_type": "code",
   "execution_count": 21,
   "metadata": {},
   "outputs": [
    {
     "name": "stdout",
     "output_type": "stream",
     "text": [
      "Welcome to the Classical Guessing Game!\n"
     ]
    }
   ],
   "source": [
    "import random\n",
    "\n",
    "MIN_NUM = 0\n",
    "MAX_NUM = 4095\n",
    "\n",
    "print(\"Welcome to the Classical Guessing Game!\")"
   ]
  },
  {
   "cell_type": "code",
   "execution_count": 46,
   "metadata": {},
   "outputs": [
    {
     "name": "stdout",
     "output_type": "stream",
     "text": [
      "Picking a secret number between 0 and 4095...  \n"
     ]
    }
   ],
   "source": [
    "print(\"Picking a secret number between %d and %d...  \" %(MIN_NUM, MAX_NUM))\n",
    "# Generate a random integer\n",
    "secret = random.randint(MIN_NUM, MAX_NUM)\n",
    "#secret_as_binary = bin(secret)\n",
    "\n",
    "guess = -1"
   ]
  },
  {
   "cell_type": "code",
   "execution_count": 56,
   "metadata": {},
   "outputs": [],
   "source": [
    "def lock_secret(n):\n",
    "  return lambda a : a & n\n",
    "\n",
    "black_box = lock_secret(secret)"
   ]
  },
  {
   "cell_type": "code",
   "execution_count": 63,
   "metadata": {},
   "outputs": [
    {
     "name": "stdout",
     "output_type": "stream",
     "text": [
      "Sending input 0b1 to Black Box function\n",
      "  Got back: 0b0\n",
      "Sending input 0b10 to Black Box function\n",
      "  Got back: 0b10\n",
      "Sending input 0b100 to Black Box function\n",
      "  Got back: 0b0\n",
      "Sending input 0b1000 to Black Box function\n",
      "  Got back: 0b1000\n",
      "Sending input 0b10000 to Black Box function\n",
      "  Got back: 0b0\n",
      "Sending input 0b100000 to Black Box function\n",
      "  Got back: 0b100000\n",
      "Sending input 0b1000000 to Black Box function\n",
      "  Got back: 0b0\n",
      "Sending input 0b10000000 to Black Box function\n",
      "  Got back: 0b10000000\n",
      "Sending input 0b100000000 to Black Box function\n",
      "  Got back: 0b100000000\n",
      "Sending input 0b1000000000 to Black Box function\n",
      "  Got back: 0b0\n",
      "Sending input 0b10000000000 to Black Box function\n",
      "  Got back: 0b10000000000\n",
      "Sending input 0b100000000000 to Black Box function\n",
      "  Got back: 0b0\n",
      "The computed secret is 1450\n"
     ]
    }
   ],
   "source": [
    "search_space_size = MAX_NUM.bit_length()\n",
    "computed_secret = 0b0\n",
    "\n",
    "# Implement Bernstein–Vazirani algorithm classically.  \n",
    "# Iterate over every bit position (i) in the search space to create an input value (x) for the \n",
    "# black box function.  The input value is defined as:\n",
    "#   x = 2^i \n",
    "for i in range(search_space_size):\n",
    "  x = int(\"1\".ljust(i+1, '0'), 2)\n",
    "  print(\"Sending input %s to Black Box function\" %(bin(x)))\n",
    "  result = black_box(x)\n",
    "  print(\"  Got back: %s\" %(bin(result)))\n",
    "  computed_secret += result\n",
    "\n",
    "print(\"The computed secret is %d\" %(computed_secret))"
   ]
  }
 ],
 "metadata": {
  "interpreter": {
   "hash": "aee8b7b246df8f9039afb4144a1f6fd8d2ca17a180786b69acc140d282b71a49"
  },
  "kernelspec": {
   "display_name": "Python 3.9.8 64-bit",
   "language": "python",
   "name": "python3"
  },
  "language_info": {
   "codemirror_mode": {
    "name": "ipython",
    "version": 3
   },
   "file_extension": ".py",
   "mimetype": "text/x-python",
   "name": "python",
   "nbconvert_exporter": "python",
   "pygments_lexer": "ipython3",
   "version": "3.9.8"
  },
  "orig_nbformat": 4
 },
 "nbformat": 4,
 "nbformat_minor": 2
}
