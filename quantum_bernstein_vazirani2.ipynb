{
 "cells": [
  {
   "cell_type": "code",
   "execution_count": 1,
   "metadata": {},
   "outputs": [],
   "source": [
    "import matplotlib.pyplot as plt\n",
    "import numpy as np\n",
    "import random\n",
    "\n",
    "# importing Qiskit\n",
    "from qiskit import IBMQ, Aer\n",
    "from qiskit.providers.ibmq import least_busy\n",
    "from qiskit import QuantumCircuit, ClassicalRegister, QuantumRegister, transpile, assemble\n",
    "\n",
    "# import basic plot tools\n",
    "from qiskit.visualization import plot_histogram\n",
    "\n",
    "import sys  \n",
    "# use Constantin's utils =)\n",
    "sys.path.append('../quantum-computing/python/src')\n",
    "import state_preparation_util"
   ]
  },
  {
   "cell_type": "code",
   "execution_count": 2,
   "metadata": {},
   "outputs": [
    {
     "name": "stdout",
     "output_type": "stream",
     "text": [
      "Quantum implementation of Bernstein–Vazirani algorithm for guessing game.\n"
     ]
    }
   ],
   "source": [
    "MIN_NUM = 0\n",
    "MAX_NUM = 15\n",
    "\n",
    "print(\"Quantum implementation of Bernstein–Vazirani algorithm for guessing game.\")"
   ]
  },
  {
   "cell_type": "code",
   "execution_count": null,
   "metadata": {},
   "outputs": [],
   "source": [
    "print(\"Randomly picking a secret number between %d and %d...  \" %(MIN_NUM, MAX_NUM))\n",
    "# Generate a random integer\n",
    "secret = random.randint(MIN_NUM, MAX_NUM)\n",
    "\n",
    "print(\"(Secret number chosen is %d)\" %(secret))"
   ]
  },
  {
   "cell_type": "code",
   "execution_count": null,
   "metadata": {},
   "outputs": [],
   "source": [
    "secret_as_binary = format(secret, \"b\")\n",
    "print(\"(Secret number in binary is %s)\" %(secret_as_binary))\n",
    "search_space_size = MAX_NUM.bit_length()\n",
    "print(\"Size of search space is %d bits.\" %(search_space_size))"
   ]
  },
  {
   "cell_type": "code",
   "execution_count": null,
   "metadata": {},
   "outputs": [],
   "source": [
    "# Pad secret with leading 0 as needed to ensure it has the same number of bit indices as the search space \n",
    "delta = search_space_size - len(secret_as_binary)\n",
    "secret_as_binary = (\"0\" * delta) + secret_as_binary"
   ]
  },
  {
   "cell_type": "code",
   "execution_count": null,
   "metadata": {},
   "outputs": [],
   "source": [
    "# We need a circuit with n qubits, plus one auxiliary qubit\n",
    "# Also need n classical bits to write the output to\n",
    "bv_circuit = QuantumCircuit(search_space_size+1, search_space_size)\n",
    "\n",
    "state_preparation_util.run_print_plot(bv_circuit)"
   ]
  },
  {
   "cell_type": "code",
   "execution_count": null,
   "metadata": {},
   "outputs": [],
   "source": [
    "# put auxiliary in state |->\n",
    "bv_circuit.h(search_space_size)\n",
    "state_preparation_util.run_print_plot(bv_circuit)"
   ]
  },
  {
   "cell_type": "code",
   "execution_count": null,
   "metadata": {},
   "outputs": [],
   "source": [
    "bv_circuit.z(search_space_size)\n",
    "state_preparation_util.run_print_plot(bv_circuit)"
   ]
  },
  {
   "cell_type": "code",
   "execution_count": null,
   "metadata": {},
   "outputs": [],
   "source": [
    "# Apply Hadamard gates before querying the oracle\n",
    "for i in range(search_space_size):\n",
    "    bv_circuit.h(i)\n",
    "state_preparation_util.run_print_plot(bv_circuit)\n"
   ]
  },
  {
   "cell_type": "code",
   "execution_count": null,
   "metadata": {},
   "outputs": [],
   "source": [
    "# Apply barrier \n",
    "bv_circuit.barrier()\n",
    "\n",
    "# reverse secret to fit qiskit's least significant bit (LSB) first ordering\n",
    "lsb_first_secret = secret_as_binary[::-1]\n",
    "\n",
    "# Apply the inner-product oracle\n",
    "for q in range(search_space_size):\n",
    "    if lsb_first_secret[q] == '1':\n",
    "        bv_circuit.cx(q, search_space_size)\n",
    "        \n",
    "# Apply barrier \n",
    "bv_circuit.barrier()\n",
    "\n",
    "state_preparation_util.run_print_plot(bv_circuit)"
   ]
  },
  {
   "cell_type": "code",
   "execution_count": null,
   "metadata": {},
   "outputs": [],
   "source": [
    "# Apply Hadamard gates after querying the oracle\n",
    "for i in range(search_space_size):\n",
    "    bv_circuit.h(i)\n",
    "\n",
    "bv_circuit.draw()\n",
    "state_preparation_util.run_print_plot(bv_circuit)\n",
    "\n",
    "\n"
   ]
  },
  {
   "cell_type": "code",
   "execution_count": null,
   "metadata": {},
   "outputs": [],
   "source": [
    "state_preparation_util.run_print_plot(bv_circuit)"
   ]
  }
 ],
 "metadata": {
  "interpreter": {
   "hash": "a1c9220863c96ae11fbb91220d2ac04e2feb17114c43aea1b859bff26e56abb7"
  },
  "kernelspec": {
   "display_name": "Python 3.9.8 64-bit ('quantum': virtualenv)",
   "language": "python",
   "name": "python3"
  },
  "language_info": {
   "codemirror_mode": {
    "name": "ipython",
    "version": 3
   },
   "file_extension": ".py",
   "mimetype": "text/x-python",
   "name": "python",
   "nbconvert_exporter": "python",
   "pygments_lexer": "ipython3",
   "version": "3.9.8"
  },
  "orig_nbformat": 4
 },
 "nbformat": 4,
 "nbformat_minor": 2
}
