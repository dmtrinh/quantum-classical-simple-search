{
 "cells": [
  {
   "cell_type": "code",
   "execution_count": 1,
   "metadata": {},
   "outputs": [],
   "source": [
    "import matplotlib.pyplot as plt\n",
    "import numpy as np\n",
    "import random\n",
    "\n",
    "# importing Qiskit\n",
    "from qiskit import IBMQ, Aer\n",
    "from qiskit.providers.ibmq import least_busy\n",
    "from qiskit import QuantumCircuit, ClassicalRegister, QuantumRegister, transpile, assemble\n",
    "\n",
    "# import basic plot tools\n",
    "from qiskit.visualization import plot_histogram\n",
    "\n",
    "import sys  \n",
    "# use Constantin's utils =)\n",
    "sys.path.append('../quantum-computing/python/src')\n",
    "import state_preparation_util"
   ]
  },
  {
   "cell_type": "code",
   "execution_count": 2,
   "metadata": {},
   "outputs": [
    {
     "name": "stdout",
     "output_type": "stream",
     "text": [
      "Quantum implementation of Bernstein–Vazirani algorithm for guessing game.\n"
     ]
    }
   ],
   "source": [
    "MIN_NUM = 0\n",
    "MAX_NUM = 15\n",
    "\n",
    "print(\"Quantum implementation of Bernstein–Vazirani algorithm for guessing game.\")"
   ]
  },
  {
   "cell_type": "code",
   "execution_count": 3,
   "metadata": {},
   "outputs": [
    {
     "name": "stdout",
     "output_type": "stream",
     "text": [
      "Randomly picking a secret number between 0 and 15...  \n",
      "(Secret number chosen is 3)\n"
     ]
    }
   ],
   "source": [
    "print(\"Randomly picking a secret number between %d and %d...  \" %(MIN_NUM, MAX_NUM))\n",
    "# Generate a random integer\n",
    "secret = random.randint(MIN_NUM, MAX_NUM)\n",
    "\n",
    "print(\"(Secret number chosen is %d)\" %(secret))"
   ]
  },
  {
   "cell_type": "code",
   "execution_count": 4,
   "metadata": {},
   "outputs": [
    {
     "name": "stdout",
     "output_type": "stream",
     "text": [
      "(Secret number in binary is 11)\n",
      "Size of search space is 4 bits.\n"
     ]
    }
   ],
   "source": [
    "secret_as_binary = format(secret, \"b\")\n",
    "print(\"(Secret number in binary is %s)\" %(secret_as_binary))\n",
    "search_space_size = MAX_NUM.bit_length()\n",
    "print(\"Size of search space is %d bits.\" %(search_space_size))"
   ]
  },
  {
   "cell_type": "code",
   "execution_count": 5,
   "metadata": {},
   "outputs": [],
   "source": [
    "# Pad secret with leading 0 as needed to ensure it has the same number of bit indices as the search space \n",
    "delta = search_space_size - len(secret_as_binary)\n",
    "secret_as_binary = (\"0\" * delta) + secret_as_binary"
   ]
  },
  {
   "cell_type": "code",
   "execution_count": 6,
   "metadata": {},
   "outputs": [
    {
     "name": "stdout",
     "output_type": "stream",
     "text": [
      "======== Quantum State ========\n",
      "0 00000 1.0 (1+0j)\n",
      "===============================\n"
     ]
    },
    {
     "data": {
      "image/png": "[encoded data removed]",
      "text/plain": [
       "<Figure size 432x288 with 1 Axes>"
      ]
     },
     "metadata": {
      "needs_background": "light"
     },
     "output_type": "display_data"
    },
    {
     "name": "stdout",
     "output_type": "stream",
     "text": [
      "Statevector([1.+0.j, 0.+0.j, 0.+0.j, 0.+0.j, 0.+0.j, 0.+0.j, 0.+0.j,\n",
      "             0.+0.j, 0.+0.j, 0.+0.j, 0.+0.j, 0.+0.j, 0.+0.j, 0.+0.j,\n",
      "             0.+0.j, 0.+0.j, 0.+0.j, 0.+0.j, 0.+0.j, 0.+0.j, 0.+0.j,\n",
      "             0.+0.j, 0.+0.j, 0.+0.j, 0.+0.j, 0.+0.j, 0.+0.j, 0.+0.j,\n",
      "             0.+0.j, 0.+0.j, 0.+0.j, 0.+0.j],\n",
      "            dims=(2, 2, 2, 2, 2))\n"
     ]
    }
   ],
   "source": [
    "# We need a circuit with n qubits, plus one auxiliary qubit\n",
    "# Also need n classical bits to write the output to\n",
    "bv_circuit = QuantumCircuit(search_space_size+1, search_space_size)\n",
    "\n",
    "state_preparation_util.run_print_plot(bv_circuit)"
   ]
  },
  {
   "cell_type": "code",
   "execution_count": 7,
   "metadata": {},
   "outputs": [
    {
     "name": "stdout",
     "output_type": "stream",
     "text": [
      "======== Quantum State ========\n",
      "0 00000 0.5 (0.70711+0j)\n",
      "16 10000 0.5 (0.70711+0j)\n",
      "===============================\n"
     ]
    },
    {
     "data": {
      "image/png": "[encoded data removed]",
      "text/plain": [
       "<Figure size 432x288 with 1 Axes>"
      ]
     },
     "metadata": {
      "needs_background": "light"
     },
     "output_type": "display_data"
    },
    {
     "name": "stdout",
     "output_type": "stream",
     "text": [
      "Statevector([ 0.70710678+0.j,  0.        +0.j,  0.        +0.j,\n",
      "              0.        +0.j,  0.        +0.j,  0.        +0.j,\n",
      "              0.        +0.j,  0.        +0.j,  0.        +0.j,\n",
      "              0.        +0.j,  0.        +0.j,  0.        +0.j,\n",
      "              0.        +0.j,  0.        +0.j,  0.        +0.j,\n",
      "              0.        +0.j,  0.70710678+0.j, -0.        +0.j,\n",
      "             -0.        +0.j, -0.        +0.j, -0.        +0.j,\n",
      "             -0.        +0.j, -0.        +0.j, -0.        +0.j,\n",
      "             -0.        +0.j, -0.        +0.j, -0.        +0.j,\n",
      "             -0.        +0.j, -0.        +0.j, -0.        +0.j,\n",
      "             -0.        +0.j, -0.        +0.j],\n",
      "            dims=(2, 2, 2, 2, 2))\n"
     ]
    }
   ],
   "source": [
    "# put auxiliary in state |->\n",
    "bv_circuit.h(search_space_size)\n",
    "state_preparation_util.run_print_plot(bv_circuit)"
   ]
  },
  {
   "cell_type": "code",
   "execution_count": 8,
   "metadata": {},
   "outputs": [
    {
     "name": "stdout",
     "output_type": "stream",
     "text": [
      "======== Quantum State ========\n",
      "0 00000 0.5 (0.70711+0j)\n",
      "16 10000 0.5 (-0.70711-0j)\n",
      "===============================\n"
     ]
    },
    {
     "data": {
      "image/png": "[encoded data removed]",
      "text/plain": [
       "<Figure size 432x288 with 1 Axes>"
      ]
     },
     "metadata": {
      "needs_background": "light"
     },
     "output_type": "display_data"
    },
    {
     "name": "stdout",
     "output_type": "stream",
     "text": [
      "Statevector([ 0.70710678+0.00000000e+00j, -0.        +0.00000000e+00j,\n",
      "             -0.        +0.00000000e+00j, -0.        +0.00000000e+00j,\n",
      "             -0.        +0.00000000e+00j, -0.        +0.00000000e+00j,\n",
      "             -0.        +0.00000000e+00j, -0.        +0.00000000e+00j,\n",
      "             -0.        +0.00000000e+00j, -0.        +0.00000000e+00j,\n",
      "             -0.        +0.00000000e+00j, -0.        +0.00000000e+00j,\n",
      "             -0.        +0.00000000e+00j, -0.        +0.00000000e+00j,\n",
      "             -0.        +0.00000000e+00j, -0.        +0.00000000e+00j,\n",
      "             -0.70710678-8.65956056e-17j, -0.        +0.00000000e+00j,\n",
      "             -0.        +0.00000000e+00j, -0.        +0.00000000e+00j,\n",
      "             -0.        +0.00000000e+00j, -0.        +0.00000000e+00j,\n",
      "             -0.        +0.00000000e+00j, -0.        +0.00000000e+00j,\n",
      "             -0.        +0.00000000e+00j, -0.        +0.00000000e+00j,\n",
      "             -0.        +0.00000000e+00j, -0.        +0.00000000e+00j,\n",
      "             -0.        +0.00000000e+00j, -0.        +0.00000000e+00j,\n",
      "             -0.        +0.00000000e+00j, -0.        +0.00000000e+00j],\n",
      "            dims=(2, 2, 2, 2, 2))\n"
     ]
    }
   ],
   "source": [
    "bv_circuit.z(search_space_size)\n",
    "state_preparation_util.run_print_plot(bv_circuit)"
   ]
  },
  {
   "cell_type": "code",
   "execution_count": 9,
   "metadata": {},
   "outputs": [
    {
     "name": "stdout",
     "output_type": "stream",
     "text": [
      "======== Quantum State ========\n",
      "0 00000 0.03125 (0.17678+0j)\n",
      "1 00001 0.03125 (0.17678+0j)\n",
      "2 00010 0.03125 (0.17678+0j)\n",
      "3 00011 0.03125 (0.17678+0j)\n",
      "4 00100 0.03125 (0.17678+0j)\n",
      "5 00101 0.03125 (0.17678+0j)\n",
      "6 00110 0.03125 (0.17678+0j)\n",
      "7 00111 0.03125 (0.17678+0j)\n",
      "8 01000 0.03125 (0.17678+0j)\n",
      "9 01001 0.03125 (0.17678+0j)\n",
      "10 01010 0.03125 (0.17678+0j)\n",
      "11 01011 0.03125 (0.17678+0j)\n",
      "12 01100 0.03125 (0.17678+0j)\n",
      "13 01101 0.03125 (0.17678+0j)\n",
      "14 01110 0.03125 (0.17678+0j)\n",
      "15 01111 0.03125 (0.17678+0j)\n",
      "16 10000 0.03125 (-0.17678-0j)\n",
      "17 10001 0.03125 (-0.17678-0j)\n",
      "18 10010 0.03125 (-0.17678-0j)\n",
      "19 10011 0.03125 (-0.17678-0j)\n",
      "20 10100 0.03125 (-0.17678-0j)\n",
      "21 10101 0.03125 (-0.17678-0j)\n",
      "22 10110 0.03125 (-0.17678-0j)\n",
      "23 10111 0.03125 (-0.17678-0j)\n",
      "24 11000 0.03125 (-0.17678-0j)\n",
      "25 11001 0.03125 (-0.17678-0j)\n",
      "26 11010 0.03125 (-0.17678-0j)\n",
      "27 11011 0.03125 (-0.17678-0j)\n",
      "28 11100 0.03125 (-0.17678-0j)\n",
      "29 11101 0.03125 (-0.17678-0j)\n",
      "30 11110 0.03125 (-0.17678-0j)\n",
      "31 11111 0.03125 (-0.17678-0j)\n",
      "===============================\n"
     ]
    },
    {
     "data": {
      "image/png": "[encoded data removed]",
      "text/plain": [
       "<Figure size 432x288 with 1 Axes>"
      ]
     },
     "metadata": {
      "needs_background": "light"
     },
     "output_type": "display_data"
    },
    {
     "name": "stdout",
     "output_type": "stream",
     "text": [
      "Statevector([ 0.1767767+0.00000000e+00j,  0.1767767+0.00000000e+00j,\n",
      "              0.1767767+0.00000000e+00j,  0.1767767+0.00000000e+00j,\n",
      "              0.1767767+0.00000000e+00j,  0.1767767+0.00000000e+00j,\n",
      "              0.1767767+0.00000000e+00j,  0.1767767+0.00000000e+00j,\n",
      "              0.1767767+0.00000000e+00j,  0.1767767+0.00000000e+00j,\n",
      "              0.1767767+0.00000000e+00j,  0.1767767+0.00000000e+00j,\n",
      "              0.1767767+0.00000000e+00j,  0.1767767+0.00000000e+00j,\n",
      "              0.1767767+0.00000000e+00j,  0.1767767+0.00000000e+00j,\n",
      "             -0.1767767-2.16489014e-17j, -0.1767767-2.16489014e-17j,\n",
      "             -0.1767767-2.16489014e-17j, -0.1767767-2.16489014e-17j,\n",
      "             -0.1767767-2.16489014e-17j, -0.1767767-2.16489014e-17j,\n",
      "             -0.1767767-2.16489014e-17j, -0.1767767-2.16489014e-17j,\n",
      "             -0.1767767-2.16489014e-17j, -0.1767767-2.16489014e-17j,\n",
      "             -0.1767767-2.16489014e-17j, -0.1767767-2.16489014e-17j,\n",
      "             -0.1767767-2.16489014e-17j, -0.1767767-2.16489014e-17j,\n",
      "             -0.1767767-2.16489014e-17j, -0.1767767-2.16489014e-17j],\n",
      "            dims=(2, 2, 2, 2, 2))\n"
     ]
    }
   ],
   "source": [
    "# Apply Hadamard gates before querying the oracle\n",
    "for i in range(search_space_size):\n",
    "    bv_circuit.h(i)\n",
    "state_preparation_util.run_print_plot(bv_circuit)\n"
   ]
  },
  {
   "cell_type": "code",
   "execution_count": 10,
   "metadata": {},
   "outputs": [
    {
     "name": "stdout",
     "output_type": "stream",
     "text": [
      "======== Quantum State ========\n",
      "0 00000 0.03125 (0.17678+0j)\n",
      "1 00001 0.03125 (-0.17678-0j)\n",
      "2 00010 0.03125 (-0.17678-0j)\n",
      "3 00011 0.03125 (0.17678+0j)\n",
      "4 00100 0.03125 (0.17678+0j)\n",
      "5 00101 0.03125 (-0.17678-0j)\n",
      "6 00110 0.03125 (-0.17678-0j)\n",
      "7 00111 0.03125 (0.17678+0j)\n",
      "8 01000 0.03125 (0.17678+0j)\n",
      "9 01001 0.03125 (-0.17678-0j)\n",
      "10 01010 0.03125 (-0.17678-0j)\n",
      "11 01011 0.03125 (0.17678+0j)\n",
      "12 01100 0.03125 (0.17678+0j)\n",
      "13 01101 0.03125 (-0.17678-0j)\n",
      "14 01110 0.03125 (-0.17678-0j)\n",
      "15 01111 0.03125 (0.17678+0j)\n",
      "16 10000 0.03125 (-0.17678-0j)\n",
      "17 10001 0.03125 (0.17678+0j)\n",
      "18 10010 0.03125 (0.17678+0j)\n",
      "19 10011 0.03125 (-0.17678-0j)\n",
      "20 10100 0.03125 (-0.17678-0j)\n",
      "21 10101 0.03125 (0.17678+0j)\n",
      "22 10110 0.03125 (0.17678+0j)\n",
      "23 10111 0.03125 (-0.17678-0j)\n",
      "24 11000 0.03125 (-0.17678-0j)\n",
      "25 11001 0.03125 (0.17678+0j)\n",
      "26 11010 0.03125 (0.17678+0j)\n",
      "27 11011 0.03125 (-0.17678-0j)\n",
      "28 11100 0.03125 (-0.17678-0j)\n",
      "29 11101 0.03125 (0.17678+0j)\n",
      "30 11110 0.03125 (0.17678+0j)\n",
      "31 11111 0.03125 (-0.17678-0j)\n",
      "===============================\n"
     ]
    },
    {
     "data": {
      "image/png": "[encoded data removed]",
      "text/plain": [
       "<Figure size 432x288 with 1 Axes>"
      ]
     },
     "metadata": {
      "needs_background": "light"
     },
     "output_type": "display_data"
    },
    {
     "name": "stdout",
     "output_type": "stream",
     "text": [
      "Statevector([ 0.1767767+0.00000000e+00j, -0.1767767-2.16489014e-17j,\n",
      "             -0.1767767-2.16489014e-17j,  0.1767767+0.00000000e+00j,\n",
      "              0.1767767+0.00000000e+00j, -0.1767767-2.16489014e-17j,\n",
      "             -0.1767767-2.16489014e-17j,  0.1767767+0.00000000e+00j,\n",
      "              0.1767767+0.00000000e+00j, -0.1767767-2.16489014e-17j,\n",
      "             -0.1767767-2.16489014e-17j,  0.1767767+0.00000000e+00j,\n",
      "              0.1767767+0.00000000e+00j, -0.1767767-2.16489014e-17j,\n",
      "             -0.1767767-2.16489014e-17j,  0.1767767+0.00000000e+00j,\n",
      "             -0.1767767-2.16489014e-17j,  0.1767767+0.00000000e+00j,\n",
      "              0.1767767+0.00000000e+00j, -0.1767767-2.16489014e-17j,\n",
      "             -0.1767767-2.16489014e-17j,  0.1767767+0.00000000e+00j,\n",
      "              0.1767767+0.00000000e+00j, -0.1767767-2.16489014e-17j,\n",
      "             -0.1767767-2.16489014e-17j,  0.1767767+0.00000000e+00j,\n",
      "              0.1767767+0.00000000e+00j, -0.1767767-2.16489014e-17j,\n",
      "             -0.1767767-2.16489014e-17j,  0.1767767+0.00000000e+00j,\n",
      "              0.1767767+0.00000000e+00j, -0.1767767-2.16489014e-17j],\n",
      "            dims=(2, 2, 2, 2, 2))\n"
     ]
    }
   ],
   "source": [
    "# Apply barrier \n",
    "bv_circuit.barrier()\n",
    "\n",
    "# reverse secret to fit qiskit's least significant bit (LSB) first ordering\n",
    "lsb_first_secret = secret_as_binary[::-1]\n",
    "\n",
    "# Apply the inner-product oracle\n",
    "for q in range(search_space_size):\n",
    "    if lsb_first_secret[q] == '1':\n",
    "        bv_circuit.cx(q, search_space_size)\n",
    "        \n",
    "# Apply barrier \n",
    "bv_circuit.barrier()\n",
    "\n",
    "state_preparation_util.run_print_plot(bv_circuit)"
   ]
  },
  {
   "cell_type": "code",
   "execution_count": 11,
   "metadata": {},
   "outputs": [
    {
     "data": {
      "text/html": [
       "<pre style=\"word-wrap: normal;white-space: pre;background: #fff0;line-height: 1.1;font-family: &quot;Courier New&quot;,Courier,monospace\">     ┌───┐      ░            ░ ┌───┐\n",
       "q_0: ┤ H ├──────░───■────────░─┤ H ├\n",
       "     ├───┤      ░   │        ░ ├───┤\n",
       "q_1: ┤ H ├──────░───┼────■───░─┤ H ├\n",
       "     ├───┤      ░   │    │   ░ ├───┤\n",
       "q_2: ┤ H ├──────░───┼────┼───░─┤ H ├\n",
       "     ├───┤      ░   │    │   ░ ├───┤\n",
       "q_3: ┤ H ├──────░───┼────┼───░─┤ H ├\n",
       "     ├───┤┌───┐ ░ ┌─┴─┐┌─┴─┐ ░ └───┘\n",
       "q_4: ┤ H ├┤ Z ├─░─┤ X ├┤ X ├─░──────\n",
       "     └───┘└───┘ ░ └───┘└───┘ ░      \n",
       "c: 4/═══════════════════════════════\n",
       "                                    </pre>"
      ],
      "text/plain": [
       "     ┌───┐      ░            ░ ┌───┐\n",
       "q_0: ┤ H ├──────░───■────────░─┤ H ├\n",
       "     ├───┤      ░   │        ░ ├───┤\n",
       "q_1: ┤ H ├──────░───┼────■───░─┤ H ├\n",
       "     ├───┤      ░   │    │   ░ ├───┤\n",
       "q_2: ┤ H ├──────░───┼────┼───░─┤ H ├\n",
       "     ├───┤      ░   │    │   ░ ├───┤\n",
       "q_3: ┤ H ├──────░───┼────┼───░─┤ H ├\n",
       "     ├───┤┌───┐ ░ ┌─┴─┐┌─┴─┐ ░ └───┘\n",
       "q_4: ┤ H ├┤ Z ├─░─┤ X ├┤ X ├─░──────\n",
       "     └───┘└───┘ ░ └───┘└───┘ ░      \n",
       "c: 4/═══════════════════════════════\n",
       "                                    "
      ]
     },
     "execution_count": 11,
     "metadata": {},
     "output_type": "execute_result"
    }
   ],
   "source": [
    "# Apply Hadamard gates after querying the oracle\n",
    "for i in range(search_space_size):\n",
    "    bv_circuit.h(i)\n",
    "\n",
    "bv_circuit.draw()"
   ]
  },
  {
   "cell_type": "code",
   "execution_count": 12,
   "metadata": {},
   "outputs": [
    {
     "name": "stdout",
     "output_type": "stream",
     "text": [
      "======== Quantum State ========\n",
      "3 00011 0.5 (0.70711-0j)\n",
      "19 10011 0.5 (-0.70711+0j)\n",
      "===============================\n"
     ]
    },
    {
     "data": {
      "image/png": "[encoded data removed]",
      "text/plain": [
       "<Figure size 432x288 with 1 Axes>"
      ]
     },
     "metadata": {
      "needs_background": "light"
     },
     "output_type": "display_data"
    },
    {
     "name": "stdout",
     "output_type": "stream",
     "text": [
      "Statevector([ 3.92523115e-17-4.32978028e-17j,\n",
      "              9.47634627e-17+4.32978028e-17j,\n",
      "              1.01938147e-16+4.32978028e-17j,\n",
      "              7.07106781e-01-1.29893408e-16j,\n",
      "             -1.96261557e-17+4.62449107e-33j,\n",
      "              8.12941988e-18+1.44940717e-33j,\n",
      "             -8.12941988e-18+6.16465893e-33j,\n",
      "             -4.32205119e-18+4.32978028e-17j,\n",
      "             -1.96261557e-17+2.35415736e-33j,\n",
      "              8.12941988e-18+2.53242438e-33j,\n",
      "             -8.12941988e-18+6.89030637e-33j,\n",
      "              2.29934717e-17+4.32978028e-17j,\n",
      "              1.54074396e-33-4.01889348e-33j,\n",
      "             -3.02550168e-33+4.97783402e-34j,\n",
      "              4.16972083e-33-4.21746836e-33j,\n",
      "              1.14967359e-17-4.90694553e-33j,\n",
      "              5.55111512e-17-4.32978028e-17j,\n",
      "             -1.04576541e-16-4.32978028e-17j,\n",
      "             -1.21564303e-16-4.32978028e-17j,\n",
      "             -7.07106781e-01+1.29893408e-16j,\n",
      "              9.84376111e-35+2.93939116e-33j,\n",
      "              1.68365798e-18-5.73265053e-33j,\n",
      "              8.12941988e-18-8.94693832e-33j,\n",
      "              4.32205119e-18-4.32978028e-17j,\n",
      "             -1.67211004e-33+7.45973370e-33j,\n",
      "              1.68365798e-18-3.80881846e-33j,\n",
      "              8.12941988e-18-1.56060704e-32j,\n",
      "             -2.29934717e-17-4.32978028e-17j,\n",
      "              3.83378233e-49+3.08148791e-33j,\n",
      "             -9.81307787e-18+8.14334195e-33j,\n",
      "              1.96261557e-17-3.52111008e-33j,\n",
      "             -1.14967359e-17+5.49063533e-34j],\n",
      "            dims=(2, 2, 2, 2, 2))\n"
     ]
    }
   ],
   "source": [
    "state_preparation_util.run_print_plot(bv_circuit)"
   ]
  }
 ],
 "metadata": {
  "interpreter": {
   "hash": "a1c9220863c96ae11fbb91220d2ac04e2feb17114c43aea1b859bff26e56abb7"
  },
  "kernelspec": {
   "display_name": "Python 3.9.8 64-bit ('quantum': virtualenv)",
   "language": "python",
   "name": "python3"
  },
  "language_info": {
   "codemirror_mode": {
    "name": "ipython",
    "version": 3
   },
   "file_extension": ".py",
   "mimetype": "text/x-python",
   "name": "python",
   "nbconvert_exporter": "python",
   "pygments_lexer": "ipython3",
   "version": "3.9.8"
  },
  "orig_nbformat": 4
 },
 "nbformat": 4,
 "nbformat_minor": 2
}
